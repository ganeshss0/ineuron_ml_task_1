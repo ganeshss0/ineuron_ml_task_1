{
 "cells": [
  {
   "attachments": {},
   "cell_type": "markdown",
   "metadata": {},
   "source": [
    "* __Problem Statement__: The time within the food get delivered is a very important factor for a food delivery platform. This time taken is also responsible for popularity of a food delivery platform. If the delivery time of food is high then this could be a big issue for these platform, this could also led to loss of customers.\n",
    "* __Aim__: Aim is to based on physical factors(location, weather, vehicle, traffic...) of the surroundings predict the time in which the food gets delivered."
   ]
  },
  {
   "cell_type": "code",
   "execution_count": 1,
   "metadata": {},
   "outputs": [],
   "source": [
    "import pandas as pd\n",
    "import numpy as np"
   ]
  },
  {
   "cell_type": "code",
   "execution_count": 46,
   "metadata": {},
   "outputs": [
    {
     "data": {
      "text/html": [
       "<div>\n",
       "<style scoped>\n",
       "    .dataframe tbody tr th:only-of-type {\n",
       "        vertical-align: middle;\n",
       "    }\n",
       "\n",
       "    .dataframe tbody tr th {\n",
       "        vertical-align: top;\n",
       "    }\n",
       "\n",
       "    .dataframe thead th {\n",
       "        text-align: right;\n",
       "    }\n",
       "</style>\n",
       "<table border=\"1\" class=\"dataframe\">\n",
       "  <thead>\n",
       "    <tr style=\"text-align: right;\">\n",
       "      <th></th>\n",
       "      <th>ID</th>\n",
       "      <th>Delivery_person_ID</th>\n",
       "      <th>Delivery_person_Age</th>\n",
       "      <th>Delivery_person_Ratings</th>\n",
       "      <th>Restaurant_latitude</th>\n",
       "      <th>Restaurant_longitude</th>\n",
       "      <th>Delivery_location_latitude</th>\n",
       "      <th>Delivery_location_longitude</th>\n",
       "      <th>Order_Date</th>\n",
       "      <th>Time_Orderd</th>\n",
       "      <th>Time_Order_picked</th>\n",
       "      <th>Weather_conditions</th>\n",
       "      <th>Road_traffic_density</th>\n",
       "      <th>Vehicle_condition</th>\n",
       "      <th>Type_of_order</th>\n",
       "      <th>Type_of_vehicle</th>\n",
       "      <th>multiple_deliveries</th>\n",
       "      <th>Festival</th>\n",
       "      <th>City</th>\n",
       "      <th>Time_taken (min)</th>\n",
       "    </tr>\n",
       "  </thead>\n",
       "  <tbody>\n",
       "    <tr>\n",
       "      <th>0</th>\n",
       "      <td>0xcdcd</td>\n",
       "      <td>DEHRES17DEL01</td>\n",
       "      <td>36.0</td>\n",
       "      <td>4.2</td>\n",
       "      <td>30.327968</td>\n",
       "      <td>78.046106</td>\n",
       "      <td>30.397968</td>\n",
       "      <td>78.116106</td>\n",
       "      <td>12-02-2022</td>\n",
       "      <td>21:55</td>\n",
       "      <td>22:10</td>\n",
       "      <td>Fog</td>\n",
       "      <td>Jam</td>\n",
       "      <td>2</td>\n",
       "      <td>Snack</td>\n",
       "      <td>motorcycle</td>\n",
       "      <td>3.0</td>\n",
       "      <td>No</td>\n",
       "      <td>Metropolitian</td>\n",
       "      <td>46</td>\n",
       "    </tr>\n",
       "    <tr>\n",
       "      <th>1</th>\n",
       "      <td>0xd987</td>\n",
       "      <td>KOCRES16DEL01</td>\n",
       "      <td>21.0</td>\n",
       "      <td>4.7</td>\n",
       "      <td>10.003064</td>\n",
       "      <td>76.307589</td>\n",
       "      <td>10.043064</td>\n",
       "      <td>76.347589</td>\n",
       "      <td>13-02-2022</td>\n",
       "      <td>14:55</td>\n",
       "      <td>15:05</td>\n",
       "      <td>Stormy</td>\n",
       "      <td>High</td>\n",
       "      <td>1</td>\n",
       "      <td>Meal</td>\n",
       "      <td>motorcycle</td>\n",
       "      <td>1.0</td>\n",
       "      <td>No</td>\n",
       "      <td>Metropolitian</td>\n",
       "      <td>23</td>\n",
       "    </tr>\n",
       "    <tr>\n",
       "      <th>2</th>\n",
       "      <td>0x2784</td>\n",
       "      <td>PUNERES13DEL03</td>\n",
       "      <td>23.0</td>\n",
       "      <td>4.7</td>\n",
       "      <td>18.562450</td>\n",
       "      <td>73.916619</td>\n",
       "      <td>18.652450</td>\n",
       "      <td>74.006619</td>\n",
       "      <td>04-03-2022</td>\n",
       "      <td>17:30</td>\n",
       "      <td>17:40</td>\n",
       "      <td>Sandstorms</td>\n",
       "      <td>Medium</td>\n",
       "      <td>1</td>\n",
       "      <td>Drinks</td>\n",
       "      <td>scooter</td>\n",
       "      <td>1.0</td>\n",
       "      <td>No</td>\n",
       "      <td>Metropolitian</td>\n",
       "      <td>21</td>\n",
       "    </tr>\n",
       "    <tr>\n",
       "      <th>3</th>\n",
       "      <td>0xc8b6</td>\n",
       "      <td>LUDHRES15DEL02</td>\n",
       "      <td>34.0</td>\n",
       "      <td>4.3</td>\n",
       "      <td>30.899584</td>\n",
       "      <td>75.809346</td>\n",
       "      <td>30.919584</td>\n",
       "      <td>75.829346</td>\n",
       "      <td>13-02-2022</td>\n",
       "      <td>09:20</td>\n",
       "      <td>09:30</td>\n",
       "      <td>Sandstorms</td>\n",
       "      <td>Low</td>\n",
       "      <td>0</td>\n",
       "      <td>Buffet</td>\n",
       "      <td>motorcycle</td>\n",
       "      <td>0.0</td>\n",
       "      <td>No</td>\n",
       "      <td>Metropolitian</td>\n",
       "      <td>20</td>\n",
       "    </tr>\n",
       "    <tr>\n",
       "      <th>4</th>\n",
       "      <td>0xdb64</td>\n",
       "      <td>KNPRES14DEL02</td>\n",
       "      <td>24.0</td>\n",
       "      <td>4.7</td>\n",
       "      <td>26.463504</td>\n",
       "      <td>80.372929</td>\n",
       "      <td>26.593504</td>\n",
       "      <td>80.502929</td>\n",
       "      <td>14-02-2022</td>\n",
       "      <td>19:50</td>\n",
       "      <td>20:05</td>\n",
       "      <td>Fog</td>\n",
       "      <td>Jam</td>\n",
       "      <td>1</td>\n",
       "      <td>Snack</td>\n",
       "      <td>scooter</td>\n",
       "      <td>1.0</td>\n",
       "      <td>No</td>\n",
       "      <td>Metropolitian</td>\n",
       "      <td>41</td>\n",
       "    </tr>\n",
       "  </tbody>\n",
       "</table>\n",
       "</div>"
      ],
      "text/plain": [
       "       ID Delivery_person_ID  Delivery_person_Age  Delivery_person_Ratings  \\\n",
       "0  0xcdcd      DEHRES17DEL01                 36.0                      4.2   \n",
       "1  0xd987      KOCRES16DEL01                 21.0                      4.7   \n",
       "2  0x2784     PUNERES13DEL03                 23.0                      4.7   \n",
       "3  0xc8b6     LUDHRES15DEL02                 34.0                      4.3   \n",
       "4  0xdb64      KNPRES14DEL02                 24.0                      4.7   \n",
       "\n",
       "   Restaurant_latitude  Restaurant_longitude  Delivery_location_latitude  \\\n",
       "0            30.327968             78.046106                   30.397968   \n",
       "1            10.003064             76.307589                   10.043064   \n",
       "2            18.562450             73.916619                   18.652450   \n",
       "3            30.899584             75.809346                   30.919584   \n",
       "4            26.463504             80.372929                   26.593504   \n",
       "\n",
       "   Delivery_location_longitude  Order_Date Time_Orderd Time_Order_picked  \\\n",
       "0                    78.116106  12-02-2022       21:55             22:10   \n",
       "1                    76.347589  13-02-2022       14:55             15:05   \n",
       "2                    74.006619  04-03-2022       17:30             17:40   \n",
       "3                    75.829346  13-02-2022       09:20             09:30   \n",
       "4                    80.502929  14-02-2022       19:50             20:05   \n",
       "\n",
       "  Weather_conditions Road_traffic_density  Vehicle_condition Type_of_order  \\\n",
       "0                Fog                  Jam                  2         Snack   \n",
       "1             Stormy                 High                  1          Meal   \n",
       "2         Sandstorms               Medium                  1        Drinks   \n",
       "3         Sandstorms                  Low                  0        Buffet   \n",
       "4                Fog                  Jam                  1         Snack   \n",
       "\n",
       "  Type_of_vehicle  multiple_deliveries Festival           City  \\\n",
       "0      motorcycle                  3.0       No  Metropolitian   \n",
       "1      motorcycle                  1.0       No  Metropolitian   \n",
       "2         scooter                  1.0       No  Metropolitian   \n",
       "3      motorcycle                  0.0       No  Metropolitian   \n",
       "4         scooter                  1.0       No  Metropolitian   \n",
       "\n",
       "   Time_taken (min)  \n",
       "0                46  \n",
       "1                23  \n",
       "2                21  \n",
       "3                20  \n",
       "4                41  "
      ]
     },
     "execution_count": 46,
     "metadata": {},
     "output_type": "execute_result"
    }
   ],
   "source": [
    "data = pd.read_csv('./data/finalTrain.csv')\n",
    "data.head()"
   ]
  },
  {
   "cell_type": "code",
   "execution_count": 47,
   "metadata": {},
   "outputs": [],
   "source": [
    "# Handling latitude, longitude and time colummn so it is easy to feed into algorithm\n",
    "\n",
    "def format_24_hour(Time: str) -> object:\n",
    "    '''Returns string/NaN, If input is NaN then it return NaN, else based on the conditions.\\n\n",
    "        23:12 -> 23:12\\n\n",
    "        24:00 -> 00:00\\n\n",
    "        10:00:00 -> 10:00\\n\n",
    "        0.422 -> NaN\\n\n",
    "        NaN -> NaN'''\n",
    "    try:\n",
    "        # Convert 24:00 into 00:00\n",
    "        if Time[:2] == '24':\n",
    "            Time = '00' + Time[2:]\n",
    "        \n",
    "        # Convert 10:00:00 into 10:00\n",
    "        if (n:=Time.count(':')) == 2:\n",
    "            Time =  Time[:-3]\n",
    "\n",
    "        # Convert decimal into NaN\n",
    "        if n == 0:\n",
    "            Time =  np.NaN\n",
    "        \n",
    "        return Time\n",
    "    \n",
    "    except:\n",
    "        return Time\n",
    "\n",
    "# Appling the format_24_hour function on both Time_Orderd and Time_Order_picked columns\n",
    "data['Time_Orderd'] = data.Time_Orderd.apply(format_24_hour)\n",
    "data['Time_Order_picked'] = data.Time_Order_picked.apply(format_24_hour)\n",
    "\n",
    "\n",
    "order = data[data.Time_Orderd.notna() & data.Time_Order_picked.notna()]\n",
    "# Converting the Time_Orderd into DateTime object\n",
    "order_time = pd.to_datetime(order['Time_Orderd'])\n",
    "\n",
    "# Converting the Time_Order_picked to DateTime object\n",
    "order_picked = pd.to_datetime(order['Time_Order_picked'])\n",
    "\n",
    "# Median difference between order picked and order time(seconds)\n",
    "median_order_pick_time = (order_picked - order_time).dt.seconds.median()\n",
    "\n",
    "\n",
    "\n",
    "# Selecting only those columns where Time_Ordered is NaN and Time_Order_picked is not NaN\n",
    "order = data.loc[data.Time_Orderd.isna() & data.Time_Order_picked.notna()]\n",
    "\n",
    "# Converting into DateTime object\n",
    "order_picked = pd.to_datetime(order['Time_Order_picked'])\n",
    "\n",
    "# Here subtracting Median Order Picking Time (600 seconds) from Order Picked Time\n",
    "data['Time_Orderd'].fillna(\n",
    "    value = (order_picked - pd.Timedelta(seconds = median_order_pick_time)).dt.strftime('%H:%M'), \n",
    "    inplace = True\n",
    "    )\n",
    "\n",
    "\n",
    "data['order_hour'] = data['Time_Orderd'].str.split(':', expand = True)[0].astype(float)"
   ]
  },
  {
   "cell_type": "code",
   "execution_count": 48,
   "metadata": {},
   "outputs": [],
   "source": [
    "# as in EDA there  are some negitive values in coordinates\n",
    "\n",
    "data[['Restaurant_latitude',\n",
    "       'Restaurant_longitude', \n",
    "      'Delivery_location_latitude', \n",
    "      'Delivery_location_longitude']] = data[['Restaurant_latitude', \n",
    "                                              'Restaurant_longitude', 'Delivery_location_latitude', \n",
    "\n",
    "                                              'Delivery_location_longitude']].apply(np.abs)\n",
    "# convert degree into radian\n",
    "degree_radian = lambda x: x * (np.pi/180)\n",
    "\n",
    "def globe_distance(data: pd.DataFrame, x1: str, y1: str, x2: str, y2: str) -> float:\n",
    "\n",
    "\n",
    "    \"\"\"Return the distance between (x1, y1) and (x2, y2), Where (x1, y1) are latitude and longitude of first location and \n",
    "    (x2, y2) are latitude and longitude of second location.\"\"\"\n",
    "    x1 = data[x1]\n",
    "    y1 = data[y1]\n",
    "    x2 = data[x2]\n",
    "    y2 = data[y2]\n",
    "    \n",
    "    # Radius of earth (km)\n",
    "    R = 6371\n",
    "    lat_diff = degree_radian(x2 - x1) / 2\n",
    "    lon_diff = degree_radian(y2 - y1) / 2\n",
    "    d = np.square(np.sin(lat_diff)) + np.cos(degree_radian(x1)) * np.cos(degree_radian(x2)) * np.square(np.sin(lon_diff))\n",
    "    D = 2 * R * np.arcsin(np.sqrt(d))\n",
    "    return np.round(D, 2)\n",
    "\n",
    "data['distance_rest_deliv'] = globe_distance(\n",
    "        data = data, \n",
    "        x1 = 'Restaurant_latitude', \n",
    "        y1 = 'Restaurant_longitude', \n",
    "        x2 = 'Delivery_location_latitude', \n",
    "        y2 = 'Delivery_location_longitude'\n",
    "        )"
   ]
  },
  {
   "cell_type": "code",
   "execution_count": 7,
   "metadata": {},
   "outputs": [
    {
     "data": {
      "text/html": [
       "<div>\n",
       "<style scoped>\n",
       "    .dataframe tbody tr th:only-of-type {\n",
       "        vertical-align: middle;\n",
       "    }\n",
       "\n",
       "    .dataframe tbody tr th {\n",
       "        vertical-align: top;\n",
       "    }\n",
       "\n",
       "    .dataframe thead th {\n",
       "        text-align: right;\n",
       "    }\n",
       "</style>\n",
       "<table border=\"1\" class=\"dataframe\">\n",
       "  <thead>\n",
       "    <tr style=\"text-align: right;\">\n",
       "      <th></th>\n",
       "      <th>ID</th>\n",
       "      <th>Delivery_person_ID</th>\n",
       "      <th>Delivery_person_Age</th>\n",
       "      <th>Delivery_person_Ratings</th>\n",
       "      <th>Restaurant_latitude</th>\n",
       "      <th>Restaurant_longitude</th>\n",
       "      <th>Delivery_location_latitude</th>\n",
       "      <th>Delivery_location_longitude</th>\n",
       "      <th>Order_Date</th>\n",
       "      <th>Time_Orderd</th>\n",
       "      <th>...</th>\n",
       "      <th>Vehicle_condition</th>\n",
       "      <th>Type_of_order</th>\n",
       "      <th>Type_of_vehicle</th>\n",
       "      <th>multiple_deliveries</th>\n",
       "      <th>Festival</th>\n",
       "      <th>City</th>\n",
       "      <th>Time_taken (min)</th>\n",
       "      <th>order_pick_delay</th>\n",
       "      <th>order_hour</th>\n",
       "      <th>distance_rest_deliv</th>\n",
       "    </tr>\n",
       "  </thead>\n",
       "  <tbody>\n",
       "    <tr>\n",
       "      <th>0</th>\n",
       "      <td>0xcdcd</td>\n",
       "      <td>DEHRES17DEL01</td>\n",
       "      <td>36.0</td>\n",
       "      <td>4.2</td>\n",
       "      <td>30.327968</td>\n",
       "      <td>78.046106</td>\n",
       "      <td>30.397968</td>\n",
       "      <td>78.116106</td>\n",
       "      <td>12-02-2022</td>\n",
       "      <td>21:55</td>\n",
       "      <td>...</td>\n",
       "      <td>2</td>\n",
       "      <td>Snack</td>\n",
       "      <td>motorcycle</td>\n",
       "      <td>3.0</td>\n",
       "      <td>No</td>\n",
       "      <td>Metropolitian</td>\n",
       "      <td>46</td>\n",
       "      <td>15.0</td>\n",
       "      <td>21.0</td>\n",
       "      <td>10.28</td>\n",
       "    </tr>\n",
       "    <tr>\n",
       "      <th>1</th>\n",
       "      <td>0xd987</td>\n",
       "      <td>KOCRES16DEL01</td>\n",
       "      <td>21.0</td>\n",
       "      <td>4.7</td>\n",
       "      <td>10.003064</td>\n",
       "      <td>76.307589</td>\n",
       "      <td>10.043064</td>\n",
       "      <td>76.347589</td>\n",
       "      <td>13-02-2022</td>\n",
       "      <td>14:55</td>\n",
       "      <td>...</td>\n",
       "      <td>1</td>\n",
       "      <td>Meal</td>\n",
       "      <td>motorcycle</td>\n",
       "      <td>1.0</td>\n",
       "      <td>No</td>\n",
       "      <td>Metropolitian</td>\n",
       "      <td>23</td>\n",
       "      <td>10.0</td>\n",
       "      <td>14.0</td>\n",
       "      <td>6.24</td>\n",
       "    </tr>\n",
       "    <tr>\n",
       "      <th>2</th>\n",
       "      <td>0x2784</td>\n",
       "      <td>PUNERES13DEL03</td>\n",
       "      <td>23.0</td>\n",
       "      <td>4.7</td>\n",
       "      <td>18.562450</td>\n",
       "      <td>73.916619</td>\n",
       "      <td>18.652450</td>\n",
       "      <td>74.006619</td>\n",
       "      <td>04-03-2022</td>\n",
       "      <td>17:30</td>\n",
       "      <td>...</td>\n",
       "      <td>1</td>\n",
       "      <td>Drinks</td>\n",
       "      <td>scooter</td>\n",
       "      <td>1.0</td>\n",
       "      <td>No</td>\n",
       "      <td>Metropolitian</td>\n",
       "      <td>21</td>\n",
       "      <td>10.0</td>\n",
       "      <td>17.0</td>\n",
       "      <td>13.79</td>\n",
       "    </tr>\n",
       "    <tr>\n",
       "      <th>3</th>\n",
       "      <td>0xc8b6</td>\n",
       "      <td>LUDHRES15DEL02</td>\n",
       "      <td>34.0</td>\n",
       "      <td>4.3</td>\n",
       "      <td>30.899584</td>\n",
       "      <td>75.809346</td>\n",
       "      <td>30.919584</td>\n",
       "      <td>75.829346</td>\n",
       "      <td>13-02-2022</td>\n",
       "      <td>09:20</td>\n",
       "      <td>...</td>\n",
       "      <td>0</td>\n",
       "      <td>Buffet</td>\n",
       "      <td>motorcycle</td>\n",
       "      <td>0.0</td>\n",
       "      <td>No</td>\n",
       "      <td>Metropolitian</td>\n",
       "      <td>20</td>\n",
       "      <td>10.0</td>\n",
       "      <td>9.0</td>\n",
       "      <td>2.93</td>\n",
       "    </tr>\n",
       "    <tr>\n",
       "      <th>4</th>\n",
       "      <td>0xdb64</td>\n",
       "      <td>KNPRES14DEL02</td>\n",
       "      <td>24.0</td>\n",
       "      <td>4.7</td>\n",
       "      <td>26.463504</td>\n",
       "      <td>80.372929</td>\n",
       "      <td>26.593504</td>\n",
       "      <td>80.502929</td>\n",
       "      <td>14-02-2022</td>\n",
       "      <td>19:50</td>\n",
       "      <td>...</td>\n",
       "      <td>1</td>\n",
       "      <td>Snack</td>\n",
       "      <td>scooter</td>\n",
       "      <td>1.0</td>\n",
       "      <td>No</td>\n",
       "      <td>Metropolitian</td>\n",
       "      <td>41</td>\n",
       "      <td>15.0</td>\n",
       "      <td>19.0</td>\n",
       "      <td>19.40</td>\n",
       "    </tr>\n",
       "  </tbody>\n",
       "</table>\n",
       "<p>5 rows × 23 columns</p>\n",
       "</div>"
      ],
      "text/plain": [
       "       ID Delivery_person_ID  Delivery_person_Age  Delivery_person_Ratings  \\\n",
       "0  0xcdcd      DEHRES17DEL01                 36.0                      4.2   \n",
       "1  0xd987      KOCRES16DEL01                 21.0                      4.7   \n",
       "2  0x2784     PUNERES13DEL03                 23.0                      4.7   \n",
       "3  0xc8b6     LUDHRES15DEL02                 34.0                      4.3   \n",
       "4  0xdb64      KNPRES14DEL02                 24.0                      4.7   \n",
       "\n",
       "   Restaurant_latitude  Restaurant_longitude  Delivery_location_latitude  \\\n",
       "0            30.327968             78.046106                   30.397968   \n",
       "1            10.003064             76.307589                   10.043064   \n",
       "2            18.562450             73.916619                   18.652450   \n",
       "3            30.899584             75.809346                   30.919584   \n",
       "4            26.463504             80.372929                   26.593504   \n",
       "\n",
       "   Delivery_location_longitude  Order_Date Time_Orderd  ... Vehicle_condition  \\\n",
       "0                    78.116106  12-02-2022       21:55  ...                 2   \n",
       "1                    76.347589  13-02-2022       14:55  ...                 1   \n",
       "2                    74.006619  04-03-2022       17:30  ...                 1   \n",
       "3                    75.829346  13-02-2022       09:20  ...                 0   \n",
       "4                    80.502929  14-02-2022       19:50  ...                 1   \n",
       "\n",
       "  Type_of_order Type_of_vehicle  multiple_deliveries Festival           City  \\\n",
       "0         Snack      motorcycle                  3.0       No  Metropolitian   \n",
       "1          Meal      motorcycle                  1.0       No  Metropolitian   \n",
       "2        Drinks         scooter                  1.0       No  Metropolitian   \n",
       "3        Buffet      motorcycle                  0.0       No  Metropolitian   \n",
       "4         Snack         scooter                  1.0       No  Metropolitian   \n",
       "\n",
       "   Time_taken (min) order_pick_delay order_hour  distance_rest_deliv  \n",
       "0                46             15.0       21.0                10.28  \n",
       "1                23             10.0       14.0                 6.24  \n",
       "2                21             10.0       17.0                13.79  \n",
       "3                20             10.0        9.0                 2.93  \n",
       "4                41             15.0       19.0                19.40  \n",
       "\n",
       "[5 rows x 23 columns]"
      ]
     },
     "execution_count": 7,
     "metadata": {},
     "output_type": "execute_result"
    }
   ],
   "source": [
    "data.head()"
   ]
  },
  {
   "attachments": {},
   "cell_type": "markdown",
   "metadata": {},
   "source": [
    "Droping `ID` and `Delivery_person_ID` the reason is `ID` is unique.<br />\n",
    "Also Droping Latitude, Longitude and Columns with datetime as these are converted into their respective numerical form."
   ]
  },
  {
   "cell_type": "code",
   "execution_count": 49,
   "metadata": {},
   "outputs": [],
   "source": [
    "data.drop(['ID'\n",
    "    'Restaurant_latitude', \n",
    "    'Restaurant_longitude', \n",
    "    'Delivery_location_latitude', \n",
    "    'Delivery_location_longitude', \n",
    "    'Order_Date', \n",
    "    'Time_Orderd', \n",
    "    'Time_Order_picked'], axis = 1, inplace = True)\n",
    "\n",
    "# seperating features and target\n",
    "features = data.drop('Time_taken (min)', axis = 1)\n",
    "target = data['Time_taken (min)'].values"
   ]
  },
  {
   "cell_type": "code",
   "execution_count": 50,
   "metadata": {},
   "outputs": [
    {
     "data": {
      "text/html": [
       "<div>\n",
       "<style scoped>\n",
       "    .dataframe tbody tr th:only-of-type {\n",
       "        vertical-align: middle;\n",
       "    }\n",
       "\n",
       "    .dataframe tbody tr th {\n",
       "        vertical-align: top;\n",
       "    }\n",
       "\n",
       "    .dataframe thead th {\n",
       "        text-align: right;\n",
       "    }\n",
       "</style>\n",
       "<table border=\"1\" class=\"dataframe\">\n",
       "  <thead>\n",
       "    <tr style=\"text-align: right;\">\n",
       "      <th></th>\n",
       "      <th>Delivery_person_Age</th>\n",
       "      <th>Delivery_person_Ratings</th>\n",
       "      <th>Weather_conditions</th>\n",
       "      <th>Road_traffic_density</th>\n",
       "      <th>Vehicle_condition</th>\n",
       "      <th>Type_of_order</th>\n",
       "      <th>Type_of_vehicle</th>\n",
       "      <th>multiple_deliveries</th>\n",
       "      <th>Festival</th>\n",
       "      <th>City</th>\n",
       "      <th>order_pick_delay</th>\n",
       "      <th>order_hour</th>\n",
       "      <th>distance_rest_deliv</th>\n",
       "    </tr>\n",
       "  </thead>\n",
       "  <tbody>\n",
       "    <tr>\n",
       "      <th>0</th>\n",
       "      <td>36.0</td>\n",
       "      <td>4.2</td>\n",
       "      <td>Fog</td>\n",
       "      <td>Jam</td>\n",
       "      <td>2</td>\n",
       "      <td>Snack</td>\n",
       "      <td>motorcycle</td>\n",
       "      <td>3.0</td>\n",
       "      <td>No</td>\n",
       "      <td>Metropolitian</td>\n",
       "      <td>15.0</td>\n",
       "      <td>21.0</td>\n",
       "      <td>10.28</td>\n",
       "    </tr>\n",
       "    <tr>\n",
       "      <th>1</th>\n",
       "      <td>21.0</td>\n",
       "      <td>4.7</td>\n",
       "      <td>Stormy</td>\n",
       "      <td>High</td>\n",
       "      <td>1</td>\n",
       "      <td>Meal</td>\n",
       "      <td>motorcycle</td>\n",
       "      <td>1.0</td>\n",
       "      <td>No</td>\n",
       "      <td>Metropolitian</td>\n",
       "      <td>10.0</td>\n",
       "      <td>14.0</td>\n",
       "      <td>6.24</td>\n",
       "    </tr>\n",
       "    <tr>\n",
       "      <th>2</th>\n",
       "      <td>23.0</td>\n",
       "      <td>4.7</td>\n",
       "      <td>Sandstorms</td>\n",
       "      <td>Medium</td>\n",
       "      <td>1</td>\n",
       "      <td>Drinks</td>\n",
       "      <td>scooter</td>\n",
       "      <td>1.0</td>\n",
       "      <td>No</td>\n",
       "      <td>Metropolitian</td>\n",
       "      <td>10.0</td>\n",
       "      <td>17.0</td>\n",
       "      <td>13.79</td>\n",
       "    </tr>\n",
       "    <tr>\n",
       "      <th>3</th>\n",
       "      <td>34.0</td>\n",
       "      <td>4.3</td>\n",
       "      <td>Sandstorms</td>\n",
       "      <td>Low</td>\n",
       "      <td>0</td>\n",
       "      <td>Buffet</td>\n",
       "      <td>motorcycle</td>\n",
       "      <td>0.0</td>\n",
       "      <td>No</td>\n",
       "      <td>Metropolitian</td>\n",
       "      <td>10.0</td>\n",
       "      <td>9.0</td>\n",
       "      <td>2.93</td>\n",
       "    </tr>\n",
       "    <tr>\n",
       "      <th>4</th>\n",
       "      <td>24.0</td>\n",
       "      <td>4.7</td>\n",
       "      <td>Fog</td>\n",
       "      <td>Jam</td>\n",
       "      <td>1</td>\n",
       "      <td>Snack</td>\n",
       "      <td>scooter</td>\n",
       "      <td>1.0</td>\n",
       "      <td>No</td>\n",
       "      <td>Metropolitian</td>\n",
       "      <td>15.0</td>\n",
       "      <td>19.0</td>\n",
       "      <td>19.40</td>\n",
       "    </tr>\n",
       "  </tbody>\n",
       "</table>\n",
       "</div>"
      ],
      "text/plain": [
       "   Delivery_person_Age  Delivery_person_Ratings Weather_conditions  \\\n",
       "0                 36.0                      4.2                Fog   \n",
       "1                 21.0                      4.7             Stormy   \n",
       "2                 23.0                      4.7         Sandstorms   \n",
       "3                 34.0                      4.3         Sandstorms   \n",
       "4                 24.0                      4.7                Fog   \n",
       "\n",
       "  Road_traffic_density  Vehicle_condition Type_of_order Type_of_vehicle  \\\n",
       "0                  Jam                  2         Snack      motorcycle   \n",
       "1                 High                  1          Meal      motorcycle   \n",
       "2               Medium                  1        Drinks         scooter   \n",
       "3                  Low                  0        Buffet      motorcycle   \n",
       "4                  Jam                  1         Snack         scooter   \n",
       "\n",
       "   multiple_deliveries Festival           City  order_pick_delay  order_hour  \\\n",
       "0                  3.0       No  Metropolitian              15.0        21.0   \n",
       "1                  1.0       No  Metropolitian              10.0        14.0   \n",
       "2                  1.0       No  Metropolitian              10.0        17.0   \n",
       "3                  0.0       No  Metropolitian              10.0         9.0   \n",
       "4                  1.0       No  Metropolitian              15.0        19.0   \n",
       "\n",
       "   distance_rest_deliv  \n",
       "0                10.28  \n",
       "1                 6.24  \n",
       "2                13.79  \n",
       "3                 2.93  \n",
       "4                19.40  "
      ]
     },
     "execution_count": 50,
     "metadata": {},
     "output_type": "execute_result"
    }
   ],
   "source": [
    "features.head()"
   ]
  },
  {
   "cell_type": "code",
   "execution_count": 51,
   "metadata": {},
   "outputs": [],
   "source": [
    "# Seperating categorical and numerical columns\n",
    "\n",
    "cats_cols = features.select_dtypes(include = 'object').columns\n",
    "nums_cols = features.select_dtypes(exclude = 'object').columns"
   ]
  },
  {
   "cell_type": "code",
   "execution_count": 52,
   "metadata": {},
   "outputs": [],
   "source": [
    "# categories these are order by decresing delivery time\n",
    "ID = data.groupby('ID')['Time_taken (min)'].median()\n",
    "person_id_cats = ID.sort_values().index.to_list()\n",
    "city_cats = ['Semi-Urban', 'Metropolitian', 'Urban']\n",
    "festival_cats = ['Yes', 'No']\n",
    "weather_cats = ['Fog', 'Cloudy', 'Stormy', 'Sandstorms', 'Windy', 'Sunny']\n",
    "vehicle_cats = ['bicycle', 'scooter', 'electric_scooter', 'motorcycle']\n",
    "order_cats = ['Buffet', 'Meal', 'Snack', 'Drinks']\n",
    "traffic_cats = ['Jam', 'High', 'Medium', 'Low']"
   ]
  },
  {
   "cell_type": "code",
   "execution_count": 53,
   "metadata": {},
   "outputs": [],
   "source": [
    "from sklearn.preprocessing import OrdinalEncoder, StandardScaler\n",
    "from sklearn.impute import SimpleImputer\n",
    "from sklearn.pipeline import Pipeline\n",
    "from sklearn.compose import ColumnTransformer"
   ]
  },
  {
   "cell_type": "code",
   "execution_count": 54,
   "metadata": {},
   "outputs": [],
   "source": [
    "# Numerical Pipeline\n",
    "\n",
    "nums_pipe = Pipeline(\n",
    "    steps = (\n",
    "        ('imputer', SimpleImputer( \n",
    "                            strategy = 'median'\n",
    "                            )),\n",
    "        ('scaling', StandardScaler())\n",
    "    )\n",
    ")\n",
    "# Categorical Pipeline\n",
    "\n",
    "cats_pipe = Pipeline(\n",
    "    steps = (\n",
    "        ('imputer', SimpleImputer(\n",
    "                            strategy = 'most_frequent'\n",
    "                            )),\n",
    "        ('ordinalencoder', OrdinalEncoder(\n",
    "                            categories = [\n",
    "                                        person_id_cats,\n",
    "                                        weather_cats, \n",
    "                                        traffic_cats, \n",
    "                                        order_cats, \n",
    "                                        vehicle_cats, \n",
    "                                        festival_cats, \n",
    "                                        city_cats]\n",
    "                                    )),\n",
    "        ('scaler', StandardScaler())\n",
    "    )\n",
    ")\n",
    "\n",
    "preprocessor = ColumnTransformer(\n",
    "    transformers = [\n",
    "    ('Numerical_Pipeline', nums_pipe, nums_cols),\n",
    "    ('Categorical_Pipeline', cats_pipe, cats_cols)\n",
    "    ]\n",
    ")\n"
   ]
  },
  {
   "cell_type": "code",
   "execution_count": 55,
   "metadata": {},
   "outputs": [],
   "source": [
    "from sklearn.model_selection import train_test_split as tts\n",
    "\n",
    "X_train, X_test, y_train, y_test = tts(features, target, test_size = 0.3, random_state = 7)"
   ]
  },
  {
   "cell_type": "code",
   "execution_count": 56,
   "metadata": {},
   "outputs": [],
   "source": [
    "preprocessor.fit(X_train)\n",
    "X_train = preprocessor.transform(X_train)\n",
    "X_test = preprocessor.transform(X_test)"
   ]
  },
  {
   "cell_type": "code",
   "execution_count": 57,
   "metadata": {},
   "outputs": [],
   "source": [
    "from sklearn.model_selection import GridSearchCV, cross_val_score\n",
    "from sklearn.linear_model import LinearRegression, Lasso, Ridge, ElasticNet"
   ]
  },
  {
   "cell_type": "code",
   "execution_count": 58,
   "metadata": {},
   "outputs": [
    {
     "data": {
      "text/plain": [
       "array([-37.96580605, -39.06650086, -38.57474054, -39.01931147,\n",
       "       -38.15301798])"
      ]
     },
     "execution_count": 58,
     "metadata": {},
     "output_type": "execute_result"
    }
   ],
   "source": [
    "linear = LinearRegression()\n",
    "\n",
    "linear_regression = cross_val_score(\n",
    "    estimator = linear,\n",
    "    X = X_train,\n",
    "    y = y_train,\n",
    "    scoring = 'neg_mean_squared_error',\n",
    "    cv = 5,\n",
    ")\n",
    "\n",
    "linear_regression"
   ]
  },
  {
   "cell_type": "code",
   "execution_count": 59,
   "metadata": {},
   "outputs": [
    {
     "data": {
      "text/plain": [
       "-38.555875381238536"
      ]
     },
     "execution_count": 59,
     "metadata": {},
     "output_type": "execute_result"
    }
   ],
   "source": [
    "linear_regression.mean()"
   ]
  },
  {
   "cell_type": "code",
   "execution_count": 60,
   "metadata": {},
   "outputs": [
    {
     "name": "stdout",
     "output_type": "stream",
     "text": [
      "Fitting 5 folds for each of 14 candidates, totalling 70 fits\n"
     ]
    }
   ],
   "source": [
    "ridge = Ridge()\n",
    "parameter = dict(alpha = [1e-10, 1e-5, 1e-2, 1e-1, 0, 1, 2, 3, 5, 10, 20, 30, 40, 50])\n",
    "\n",
    "ridge_regression = GridSearchCV(\n",
    "    estimator = ridge,\n",
    "    param_grid = parameter,\n",
    "    scoring = 'neg_mean_squared_error',\n",
    "    cv = 5,\n",
    "    verbose = 1\n",
    ")\n",
    "\n",
    "score = ridge_regression.fit(X = X_train, y = y_train)"
   ]
  },
  {
   "cell_type": "code",
   "execution_count": 61,
   "metadata": {},
   "outputs": [
    {
     "data": {
      "text/plain": [
       "{'alpha': 20}"
      ]
     },
     "execution_count": 61,
     "metadata": {},
     "output_type": "execute_result"
    }
   ],
   "source": [
    "ridge_regression.best_params_"
   ]
  },
  {
   "cell_type": "code",
   "execution_count": 62,
   "metadata": {},
   "outputs": [
    {
     "data": {
      "text/plain": [
       "-38.55585600803739"
      ]
     },
     "execution_count": 62,
     "metadata": {},
     "output_type": "execute_result"
    }
   ],
   "source": [
    "ridge_regression.best_score_"
   ]
  },
  {
   "cell_type": "code",
   "execution_count": 63,
   "metadata": {},
   "outputs": [
    {
     "name": "stdout",
     "output_type": "stream",
     "text": [
      "Fitting 5 folds for each of 13 candidates, totalling 65 fits\n"
     ]
    }
   ],
   "source": [
    "lasso = Lasso()\n",
    "\n",
    "parameter = dict(alpha = [1e-10, 1e-5, 1e-2, 1e-1, 1, 2, 3, 5, 10, 20, 30, 40, 50])\n",
    "\n",
    "lasso_regression = GridSearchCV(\n",
    "    estimator = lasso,\n",
    "    param_grid = parameter,\n",
    "    scoring = 'neg_mean_squared_error',\n",
    "    cv = 5,\n",
    "    verbose = 1\n",
    ")\n",
    "\n",
    "score_lasso = lasso_regression.fit(X = X_train, y = y_train)"
   ]
  },
  {
   "cell_type": "code",
   "execution_count": 64,
   "metadata": {},
   "outputs": [
    {
     "data": {
      "text/plain": [
       "{'alpha': 1e-05}"
      ]
     },
     "execution_count": 64,
     "metadata": {},
     "output_type": "execute_result"
    }
   ],
   "source": [
    "lasso_regression.best_params_"
   ]
  },
  {
   "cell_type": "code",
   "execution_count": 65,
   "metadata": {},
   "outputs": [
    {
     "data": {
      "text/plain": [
       "-38.5558744270664"
      ]
     },
     "execution_count": 65,
     "metadata": {},
     "output_type": "execute_result"
    }
   ],
   "source": [
    "lasso_regression.best_score_"
   ]
  },
  {
   "cell_type": "code",
   "execution_count": 66,
   "metadata": {},
   "outputs": [
    {
     "name": "stdout",
     "output_type": "stream",
     "text": [
      "Fitting 5 folds for each of 13 candidates, totalling 65 fits\n"
     ]
    }
   ],
   "source": [
    "elastic = ElasticNet()\n",
    "\n",
    "parameter = dict(alpha = [1e-10, 1e-5, 1e-2, 1e-1, 1, 2, 3, 5, 10, 20, 30, 40, 50])\n",
    "\n",
    "elastic_regression = GridSearchCV(\n",
    "    estimator = elastic,\n",
    "    param_grid = parameter,\n",
    "    scoring = 'neg_mean_squared_error',\n",
    "    cv = 5,\n",
    "    verbose = 1\n",
    ")\n",
    "\n",
    "score_elastic = elastic_regression.fit(X = X_train, y = y_train)"
   ]
  },
  {
   "cell_type": "code",
   "execution_count": 67,
   "metadata": {},
   "outputs": [
    {
     "data": {
      "text/plain": [
       "{'alpha': 1e-05}"
      ]
     },
     "execution_count": 67,
     "metadata": {},
     "output_type": "execute_result"
    }
   ],
   "source": [
    "elastic_regression.best_params_"
   ]
  },
  {
   "cell_type": "code",
   "execution_count": 68,
   "metadata": {},
   "outputs": [
    {
     "data": {
      "text/plain": [
       "-38.5558746601085"
      ]
     },
     "execution_count": 68,
     "metadata": {},
     "output_type": "execute_result"
    }
   ],
   "source": [
    "elastic_regression.best_score_"
   ]
  },
  {
   "cell_type": "code",
   "execution_count": 69,
   "metadata": {},
   "outputs": [
    {
     "name": "stdout",
     "output_type": "stream",
     "text": [
      "Negitive Mean Square Error of Linear Regression is -38.555875381238536\n",
      "Negitive Mean Square Error of Ridge Regression is -38.55585600803739\n",
      "Negitive Mean Square Error of Lasso Regression is -38.5558744270664\n",
      "Negitive Mean Square Error of Elastic Regression is -38.5558746601085\n"
     ]
    }
   ],
   "source": [
    "print('Negitive Mean Square Error of Linear Regression is', linear_regression.mean())\n",
    "print('Negitive Mean Square Error of Ridge Regression is', ridge_regression.best_score_)\n",
    "print('Negitive Mean Square Error of Lasso Regression is', lasso_regression.best_score_)\n",
    "print('Negitive Mean Square Error of Elastic Regression is', elastic_regression.best_score_)"
   ]
  },
  {
   "attachments": {},
   "cell_type": "markdown",
   "metadata": {},
   "source": [
    "So Rigde, Lasso and Elastic Regression performing slightly better than Linear Regression"
   ]
  },
  {
   "cell_type": "code",
   "execution_count": 70,
   "metadata": {},
   "outputs": [],
   "source": [
    "# Predictions\n",
    "\n",
    "predict_ridge = ridge_regression.predict(X = X_test)\n",
    "predict_lasso = lasso_regression.predict(X = X_test)\n",
    "predict_elastic = elastic_regression.predict(X = X_test)"
   ]
  },
  {
   "cell_type": "code",
   "execution_count": 75,
   "metadata": {},
   "outputs": [
    {
     "data": {
      "image/png": "[encoded data removed]",
      "text/plain": [
       "<Figure size 432x288 with 3 Axes>"
      ]
     },
     "metadata": {
      "needs_background": "light"
     },
     "output_type": "display_data"
    }
   ],
   "source": [
    "import matplotlib.pyplot as plt\n",
    "import seaborn as sns\n",
    "\n",
    "\n",
    "fig, (ax_1, ax_2, ax_3) = plt.subplots(1, 3)\n",
    "sns.kdeplot(y_test - predict_lasso, color = 'g', label = 'Lasso', ax = ax_1)\n",
    "sns.kdeplot(y_test - predict_ridge, color = 'r', label = 'Ridge', ax = ax_2)\n",
    "sns.kdeplot(y_test - predict_elastic, color = 'b', label = 'Elastic', ax = ax_3)\n",
    "plt.show()\n"
   ]
  },
  {
   "cell_type": "code",
   "execution_count": 76,
   "metadata": {},
   "outputs": [],
   "source": [
    "from sklearn.metrics import r2_score, mean_absolute_error, mean_squared_error"
   ]
  },
  {
   "cell_type": "code",
   "execution_count": 77,
   "metadata": {},
   "outputs": [
    {
     "name": "stdout",
     "output_type": "stream",
     "text": [
      "R2 Score of Ridge Regression: 0.5740671091913343\n",
      "R2 Score of Lasso Regression: 0.5740676128847724\n",
      "R2 Score of ElasticNet Regression: 0.5740676141547822\n"
     ]
    }
   ],
   "source": [
    "print('R2 Score of Ridge Regression:', r2_score(y_test, predict_ridge))\n",
    "print('R2 Score of Lasso Regression:', r2_score(y_test, predict_lasso))\n",
    "print('R2 Score of ElasticNet Regression:', r2_score(y_test, predict_elastic))"
   ]
  },
  {
   "cell_type": "code",
   "execution_count": 78,
   "metadata": {},
   "outputs": [
    {
     "name": "stdout",
     "output_type": "stream",
     "text": [
      "RMSE of Ridge Regression: 6.107314796756332\n",
      "RMSE of Lasso Regression: 6.107311185606121\n",
      "RMSE of ElasticNet Regression: 6.107311176500984\n"
     ]
    }
   ],
   "source": [
    "print('RMSE of Ridge Regression:', np.sqrt(mean_squared_error(y_test, predict_ridge)))\n",
    "print('RMSE of Lasso Regression:', np.sqrt(mean_squared_error(y_test, predict_lasso)))\n",
    "print('RMSE of ElasticNet Regression:', np.sqrt(mean_squared_error(y_test, predict_elastic)))"
   ]
  },
  {
   "cell_type": "code",
   "execution_count": 79,
   "metadata": {},
   "outputs": [
    {
     "name": "stdout",
     "output_type": "stream",
     "text": [
      "MAE of Ridge Regression: 4.878040981767208\n",
      "MAE of Lasso Regression: 4.878027923258592\n",
      "MAE of ElasticNet Regression: 4.878027952857319\n"
     ]
    }
   ],
   "source": [
    "print('MAE of Ridge Regression:', mean_absolute_error(y_test, predict_ridge))\n",
    "print('MAE of Lasso Regression:', mean_absolute_error(y_test, predict_lasso))\n",
    "print('MAE of ElasticNet Regression:', mean_absolute_error(y_test, predict_elastic))"
   ]
  },
  {
   "attachments": {},
   "cell_type": "markdown",
   "metadata": {},
   "source": [
    "Linear Regression is performing poor again Lasso, Ridge and Elastic. So for this problem I will use Lasso, Ridge and Elastic based on R2 score."
   ]
  }
 ],
 "metadata": {
  "kernelspec": {
   "display_name": "Python 3",
   "language": "python",
   "name": "python3"
  },
  "language_info": {
   "codemirror_mode": {
    "name": "ipython",
    "version": 3
   },
   "file_extension": ".py",
   "mimetype": "text/x-python",
   "name": "python",
   "nbconvert_exporter": "python",
   "pygments_lexer": "ipython3",
   "version": "3.10.2"
  },
  "orig_nbformat": 4,
  "vscode": {
   "interpreter": {
    "hash": "2469a70536e4d2335a2ea8907942d0699c37342a371ac185bdb5b0aa6f073890"
   }
  }
 },
 "nbformat": 4,
 "nbformat_minor": 2
}
